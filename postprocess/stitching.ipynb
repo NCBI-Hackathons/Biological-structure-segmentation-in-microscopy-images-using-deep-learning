{
 "cells": [
  {
   "cell_type": "code",
   "execution_count": 1,
   "metadata": {
    "ExecuteTime": {
     "end_time": "2018-09-12T16:37:46.916812Z",
     "start_time": "2018-09-12T16:37:46.372316Z"
    },
    "collapsed": true
   },
   "outputs": [],
   "source": [
    "import numpy as np\n",
    "import matplotlib.pyplot as plt\n",
    "% matplotlib inline\n",
    "\n",
    "from PIL import Image"
   ]
  },
  {
   "cell_type": "code",
   "execution_count": 2,
   "metadata": {
    "ExecuteTime": {
     "end_time": "2018-09-12T16:37:46.975997Z",
     "start_time": "2018-09-12T16:37:46.941181Z"
    },
    "collapsed": true
   },
   "outputs": [],
   "source": [
    "def stitch(stack, numpix_threshold=0):\n",
    "    from scipy.sparse.csgraph import csgraph_from_dense, connected_components\n",
    "    nonzero_idx = np.any(stack,axis=2)\n",
    "    \n",
    "    # get unique label combinations across stacks\n",
    "    labels_to_combine = np.unique(stack[nonzero_idx],axis=0)\n",
    "    \n",
    "    conn_mat = np.zeros((labels_to_combine.max()+1,labels_to_combine.max()+1), dtype='bool')\n",
    "    \n",
    "    for row, label_combo in enumerate(labels_to_combine):\n",
    "        group = label_combo[np.nonzero(label_combo)]\n",
    "        for i in range(len(group)-1):\n",
    "            for j in range(i+1,len(group)):\n",
    "                conn_mat[group[i], group[j]] = True\n",
    "                conn_mat[group[j], group[i]] = True\n",
    "\n",
    "    np.fill_diagonal(conn_mat, True)\n",
    "    \n",
    "    graph = csgraph_from_dense(conn_mat)\n",
    "    \n",
    "    n_conncomp, graph_complabels = connected_components(graph, directed=False)\n",
    "    \n",
    "    result = np.zeros_like(stack[:,:,0])\n",
    "    \n",
    "    for label in np.unique(stack):\n",
    "        mask = np.any(stack==label,axis=2)\n",
    "        if mask.sum() > numpix_threshold:\n",
    "            result[np.any(stack==label,axis=2)] = graph_complabels[label]\n",
    "    \n",
    "    return result\n",
    "\n",
    "\n",
    "def stitch_sparse(stack, numpix_threshold=0):\n",
    "    from scipy.sparse import csr_matrix\n",
    "    from scipy.sparse.csgraph import connected_components\n",
    "    \n",
    "    # get unique label combinations across stacks\n",
    "    nonzero_idx = np.any(stack,axis=2)\n",
    "    labels_to_combine = stack[nonzero_idx]  \n",
    "    \n",
    "    combo_dict = {}\n",
    "    for row, label_combo in enumerate(labels_to_combine):\n",
    "        group = label_combo[np.nonzero(label_combo)] # this should already be sorted\n",
    "        for i in range(len(group)):\n",
    "            #if (group[i], group[i]) in combo_dict:\n",
    "            #    combo_dict[(group[i], group[i])] += 1\n",
    "            #else:\n",
    "            #    combo_dict[(group[i], group[i])] = 1\n",
    "            for j in range(i+1,len(group)):\n",
    "                if (group[i], group[j]) in combo_dict:\n",
    "                    combo_dict[(group[i], group[j])] += 1\n",
    "                else:\n",
    "                    combo_dict[(group[i], group[j])] = 1\n",
    "                       \n",
    "    conn_mat = csr_matrix((np.ones(len(combo_dict), dtype='bool'),\n",
    "                           ([key[0] for key in combo_dict.keys()], \n",
    "                            [key[1] for key in combo_dict.keys()])),\n",
    "                          shape=(labels_to_combine.max()+1,labels_to_combine.max()+1))\n",
    "    \n",
    "    n_conncomp, graph_complabels = connected_components(conn_mat, directed=False)\n",
    "    \n",
    "    result = np.zeros_like(stack[:,:,0])\n",
    "\n",
    "    for label in np.unique(stack):\n",
    "        mask = np.any(stack==label,axis=2)\n",
    "        if mask.sum() > numpix_threshold:\n",
    "            result[np.any(stack==label,axis=2)] = graph_complabels[label]\n",
    "    \n",
    "    return result"
   ]
  },
  {
   "cell_type": "markdown",
   "metadata": {},
   "source": [
    "# inference-sparce-512"
   ]
  },
  {
   "cell_type": "code",
   "execution_count": 3,
   "metadata": {
    "ExecuteTime": {
     "end_time": "2018-09-12T16:37:48.883032Z",
     "start_time": "2018-09-12T16:37:48.842611Z"
    },
    "collapsed": true
   },
   "outputs": [],
   "source": [
    "stack = np.load('../inference-sparce-512/inference-bigger-cell.npy')\n",
    "stack = stack[:,:,1:]\n",
    "npix = 10"
   ]
  },
  {
   "cell_type": "code",
   "execution_count": 4,
   "metadata": {
    "ExecuteTime": {
     "end_time": "2018-09-12T16:38:29.553366Z",
     "start_time": "2018-09-12T16:37:50.022836Z"
    }
   },
   "outputs": [],
   "source": [
    "result = stitch(stack, numpix_threshold=npix)"
   ]
  },
  {
   "cell_type": "code",
   "execution_count": 6,
   "metadata": {
    "ExecuteTime": {
     "end_time": "2018-09-12T16:39:48.565545Z",
     "start_time": "2018-09-12T16:39:08.948989Z"
    }
   },
   "outputs": [],
   "source": [
    "result_sparse = stitch_sparse(stack, numpix_threshold=npix)"
   ]
  },
  {
   "cell_type": "code",
   "execution_count": 7,
   "metadata": {
    "ExecuteTime": {
     "end_time": "2018-09-12T16:40:03.288742Z",
     "start_time": "2018-09-12T16:40:03.256359Z"
    },
    "collapsed": true
   },
   "outputs": [],
   "source": [
    "Image.fromarray(result).save('../inference-sparce-512/result_hackathon.tif')\n",
    "Image.fromarray(result_sparse).save('../inference-sparce-512/result_sparse_hackathon.tif')"
   ]
  },
  {
   "cell_type": "markdown",
   "metadata": {},
   "source": [
    "# inference-dense-512"
   ]
  },
  {
   "cell_type": "code",
   "execution_count": 13,
   "metadata": {
    "ExecuteTime": {
     "end_time": "2018-09-12T16:42:55.376341Z",
     "start_time": "2018-09-12T16:42:55.349108Z"
    },
    "collapsed": true
   },
   "outputs": [],
   "source": [
    "stack = np.load('../inference-dense-512/inference-stack.npy')\n",
    "stack = stack[:,:,1:]\n",
    "\n",
    "npix = 10"
   ]
  },
  {
   "cell_type": "code",
   "execution_count": 14,
   "metadata": {
    "ExecuteTime": {
     "end_time": "2018-09-12T16:45:53.607353Z",
     "start_time": "2018-09-12T16:42:55.777094Z"
    },
    "collapsed": true
   },
   "outputs": [],
   "source": [
    "result = stitch(stack, numpix_threshold=npix)"
   ]
  },
  {
   "cell_type": "code",
   "execution_count": 15,
   "metadata": {
    "ExecuteTime": {
     "end_time": "2018-09-12T16:48:50.250034Z",
     "start_time": "2018-09-12T16:45:53.609329Z"
    },
    "collapsed": true
   },
   "outputs": [],
   "source": [
    "result_sparse = stitch_sparse(stack, numpix_threshold=npix)"
   ]
  },
  {
   "cell_type": "code",
   "execution_count": 16,
   "metadata": {
    "ExecuteTime": {
     "end_time": "2018-09-12T16:48:50.269690Z",
     "start_time": "2018-09-12T16:48:50.252077Z"
    },
    "collapsed": true
   },
   "outputs": [],
   "source": [
    "Image.fromarray(result).save('../inference-dense-512/result_hackathon.tif')\n",
    "Image.fromarray(result_sparse).save('../inference-dense-512/result_sparse_hackathon.tif')"
   ]
  },
  {
   "cell_type": "markdown",
   "metadata": {},
   "source": [
    "# inference-dense-512 using flipped"
   ]
  },
  {
   "cell_type": "code",
   "execution_count": 17,
   "metadata": {
    "ExecuteTime": {
     "end_time": "2018-09-12T16:51:43.717339Z",
     "start_time": "2018-09-12T16:51:43.681046Z"
    },
    "collapsed": true
   },
   "outputs": [],
   "source": [
    "stack = np.load('../inference-dense-512/inference-bigger-cell-after-flipping.npy')\n",
    "stack = stack[:,:,1:]\n",
    "\n",
    "npix = 10"
   ]
  },
  {
   "cell_type": "code",
   "execution_count": 18,
   "metadata": {
    "ExecuteTime": {
     "end_time": "2018-09-12T16:54:38.857285Z",
     "start_time": "2018-09-12T16:51:45.297625Z"
    },
    "collapsed": true
   },
   "outputs": [],
   "source": [
    "result = stitch(stack, numpix_threshold=npix)"
   ]
  },
  {
   "cell_type": "code",
   "execution_count": 19,
   "metadata": {
    "ExecuteTime": {
     "end_time": "2018-09-12T16:57:32.859427Z",
     "start_time": "2018-09-12T16:54:38.859171Z"
    },
    "collapsed": true
   },
   "outputs": [],
   "source": [
    "result_sparse = stitch_sparse(stack, numpix_threshold=npix)"
   ]
  },
  {
   "cell_type": "code",
   "execution_count": 20,
   "metadata": {
    "ExecuteTime": {
     "end_time": "2018-09-12T16:57:32.940160Z",
     "start_time": "2018-09-12T16:57:32.862885Z"
    },
    "collapsed": true
   },
   "outputs": [],
   "source": [
    "Image.fromarray(result).save('../inference-dense-512/result_flipped_hackathon.tif')\n",
    "Image.fromarray(result_sparse).save('../inference-dense-512/result_flipped_sparse_hackathon.tif')"
   ]
  },
  {
   "cell_type": "markdown",
   "metadata": {
    "ExecuteTime": {
     "end_time": "2018-09-12T16:42:37.426462Z",
     "start_time": "2018-09-12T16:42:37.423793Z"
    }
   },
   "source": [
    "# inference-dense-512 using both"
   ]
  },
  {
   "cell_type": "code",
   "execution_count": 21,
   "metadata": {
    "ExecuteTime": {
     "end_time": "2018-09-12T17:00:35.147870Z",
     "start_time": "2018-09-12T17:00:34.940656Z"
    }
   },
   "outputs": [],
   "source": [
    "stack = np.load('../inference-dense-512/inference-stack.npy')\n",
    "stack = stack[:,:,1:]\n",
    "\n",
    "stack_flipped = np.load('../inference-dense-512/inference-bigger-cell-after-flipping.npy')\n",
    "stack_flipped = stack_flipped[:,:,1:]\n",
    "\n",
    "stack = np.concatenate((stack,stack_flipped), axis=2)\n",
    "\n",
    "npix = 10"
   ]
  },
  {
   "cell_type": "code",
   "execution_count": null,
   "metadata": {
    "ExecuteTime": {
     "start_time": "2018-09-12T17:00:37.282Z"
    },
    "collapsed": true
   },
   "outputs": [],
   "source": [
    "result = stitch(stack, numpix_threshold=npix)"
   ]
  },
  {
   "cell_type": "code",
   "execution_count": null,
   "metadata": {
    "ExecuteTime": {
     "start_time": "2018-09-12T17:00:43.014Z"
    },
    "collapsed": true
   },
   "outputs": [],
   "source": [
    "result_sparse = stitch_sparse(stack, numpix_threshold=npix)"
   ]
  },
  {
   "cell_type": "code",
   "execution_count": null,
   "metadata": {
    "ExecuteTime": {
     "start_time": "2018-09-12T17:00:43.976Z"
    },
    "collapsed": true
   },
   "outputs": [],
   "source": [
    "Image.fromarray(result).save('../inference-dense-512/result_both_hackathon.tif')\n",
    "Image.fromarray(result_sparse).save('../inference-dense-512/result_both_sparse_hackathon.tif')"
   ]
  },
  {
   "cell_type": "code",
   "execution_count": null,
   "metadata": {
    "collapsed": true
   },
   "outputs": [],
   "source": []
  }
 ],
 "metadata": {
  "kernelspec": {
   "display_name": "Python [conda env:python3.6]",
   "language": "python",
   "name": "conda-env-python3.6-py"
  },
  "language_info": {
   "codemirror_mode": {
    "name": "ipython",
    "version": 3
   },
   "file_extension": ".py",
   "mimetype": "text/x-python",
   "name": "python",
   "nbconvert_exporter": "python",
   "pygments_lexer": "ipython3",
   "version": "3.6.6"
  },
  "toc": {
   "nav_menu": {},
   "number_sections": true,
   "sideBar": true,
   "skip_h1_title": false,
   "toc_cell": false,
   "toc_position": {},
   "toc_section_display": "block",
   "toc_window_display": false
  }
 },
 "nbformat": 4,
 "nbformat_minor": 2
}
